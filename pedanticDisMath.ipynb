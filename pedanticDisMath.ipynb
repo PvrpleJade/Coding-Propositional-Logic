{
 "cells": [
  {
   "cell_type": "markdown",
   "metadata": {},
   "source": [
    "Add additional fries and drinks to the order if the customer would buy a Cheese Burger Deluxe and add a Sundae instead if they also do. Always remember to print the receipt for every transaction.\n",
    "\n",
    "p = the customer would order a cheese burger deluxe\n",
    "q = add additional fries and drinks\n",
    "r = add  a sundae\n",
    "(p → q) ∧ (¬p → r)\n",
    "\n",
    "\n",
    "Flowchart:\n",
    "https://github.com/aducpe/Discrete-Mathematics/blob/master/Propositional%20Logic/img/else.jpeg?raw=true"
   ]
  },
  {
   "cell_type": "code",
   "execution_count": 7,
   "metadata": {},
   "outputs": [
    {
     "name": "stdout",
     "output_type": "stream",
     "text": [
      "You ordered a Cheese Burger Deluxe \n",
      "and an additional fries and drink will be added to the order.\n"
     ]
    }
   ],
   "source": [
    "#Activity 1\n",
    "cbdel = True\n",
    "if (cbdel):\n",
    "    print (\"You ordered a Cheese Burger Deluxe \")\n",
    "    print (\"and an additional fries and drink will be added to the order.\")\n",
    "else:\n",
    "    print (\"a sundae will be added to the order instead.\")\n"
   ]
  },
  {
   "cell_type": "markdown",
   "metadata": {},
   "source": []
  }
 ],
 "metadata": {
  "kernelspec": {
   "display_name": "Python 3",
   "language": "python",
   "name": "python3"
  },
  "language_info": {
   "codemirror_mode": {
    "name": "ipython",
    "version": 3
   },
   "file_extension": ".py",
   "mimetype": "text/x-python",
   "name": "python",
   "nbconvert_exporter": "python",
   "pygments_lexer": "ipython3",
   "version": "3.8.3"
  }
 },
 "nbformat": 4,
 "nbformat_minor": 4
}
